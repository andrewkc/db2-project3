{
 "cells": [
  {
   "cell_type": "code",
   "execution_count": 2,
   "id": "initial_id",
   "metadata": {
    "ExecuteTime": {
     "end_time": "2023-11-20T03:56:13.719972317Z",
     "start_time": "2023-11-20T03:56:13.675526077Z"
    },
    "collapsed": true
   },
   "outputs": [
    {
     "ename": "ModuleNotFoundError",
     "evalue": "No module named 'rtree'",
     "output_type": "error",
     "traceback": [
      "\u001b[0;31m---------------------------------------------------------------------------\u001b[0m",
      "\u001b[0;31mModuleNotFoundError\u001b[0m                       Traceback (most recent call last)",
      "Cell \u001b[0;32mIn[2], line 1\u001b[0m\n\u001b[0;32m----> 1\u001b[0m \u001b[39mfrom\u001b[39;00m \u001b[39mrtree\u001b[39;00m \u001b[39mimport\u001b[39;00m index\n\u001b[1;32m      2\u001b[0m \u001b[39mimport\u001b[39;00m \u001b[39mpandas\u001b[39;00m \u001b[39mas\u001b[39;00m \u001b[39mpd\u001b[39;00m\n\u001b[1;32m      3\u001b[0m \u001b[39mimport\u001b[39;00m \u001b[39mlibrosa\u001b[39;00m\n",
      "\u001b[0;31mModuleNotFoundError\u001b[0m: No module named 'rtree'"
     ]
    }
   ],
   "source": [
    "from rtree import index\n",
    "import pandas as pd\n",
    "import librosa\n",
    "import numpy as np\n",
    "from sklearn.decomposition import PCA\n",
    "from sklearn.preprocessing import StandardScaler"
   ]
  },
  {
   "cell_type": "code",
   "execution_count": 39,
   "id": "7aef73e3824d3ac1",
   "metadata": {
    "ExecuteTime": {
     "end_time": "2023-11-20T04:44:20.131446507Z",
     "start_time": "2023-11-20T04:44:20.085426495Z"
    },
    "collapsed": false
   },
   "outputs": [],
   "source": [
    "def reducir_dimensionalidad(data):\n",
    "    new_data = []\n",
    "    for i in range(len(data)):\n",
    "        new_data.append(data.iloc[i][:-1])\n",
    "    scaler = StandardScaler()\n",
    "    data_scaled = scaler.fit_transform(new_data)\n",
    "    pca = PCA(n_components=100)\n",
    "    data_pca = pca.fit_transform(data_scaled)\n",
    "    new_data_pca =[]\n",
    "    for i in range(len(data_pca)):\n",
    "        temp=list(data_pca[i])\n",
    "        temp.append(data.iloc[i][len(data.iloc[0])-1])\n",
    "        new_data_pca.append(temp)\n",
    "    return new_data_pca"
   ]
  },
  {
   "cell_type": "code",
   "execution_count": 40,
   "id": "dfde11a800f719e4",
   "metadata": {
    "ExecuteTime": {
     "end_time": "2023-11-20T04:44:37.109812259Z",
     "start_time": "2023-11-20T04:44:23.649888380Z"
    },
    "collapsed": false
   },
   "outputs": [],
   "source": [
    "data = pd.read_csv('defi.csv')\n",
    "new_data = reducir_dimensionalidad(data)"
   ]
  },
  {
   "cell_type": "code",
   "execution_count": 41,
   "id": "d74e5e0fc45c09e0",
   "metadata": {
    "ExecuteTime": {
     "end_time": "2023-11-20T04:44:42.179238519Z",
     "start_time": "2023-11-20T04:44:42.122530219Z"
    },
    "collapsed": false
   },
   "outputs": [],
   "source": [
    "class RtreeIndex:\n",
    "    def __init__(self,c):\n",
    "        p = index.Property()\n",
    "        p.dimension = 100\n",
    "        p.buffering_capacity = 3\n",
    "        self.collection = c\n",
    "        self.core = index.Index(properties=p)\n",
    "        for itr in range(len(self.collection)):\n",
    "            self.core.insert(id=itr,coordinates=self.collection[itr][:-1])\n",
    "    def knn_rtree(self,query,k):\n",
    "        #Suponiendo que query es el vector de dimensiones de la cancion\n",
    "        ans = []\n",
    "        result = self.core.nearest(coordinates=query[:-1],num_results=k)\n",
    "        for itr in result:\n",
    "            ans.append(self.collection[itr][len(self.collection[itr])-1])\n",
    "        return ans\n"
   ]
  },
  {
   "cell_type": "code",
   "execution_count": 42,
   "id": "a19d8477ee222edf",
   "metadata": {
    "ExecuteTime": {
     "end_time": "2023-11-20T04:44:58.378871822Z",
     "start_time": "2023-11-20T04:44:46.798556210Z"
    },
    "collapsed": false
   },
   "outputs": [],
   "source": [
    "consultas = RtreeIndex(new_data)\n"
   ]
  },
  {
   "cell_type": "code",
   "execution_count": 43,
   "id": "55babe3a5d087a5b",
   "metadata": {
    "ExecuteTime": {
     "end_time": "2023-11-20T04:45:31.429079165Z",
     "start_time": "2023-11-20T04:45:31.315758878Z"
    },
    "collapsed": false
   },
   "outputs": [
    {
     "name": "stdout",
     "output_type": "stream",
     "text": [
      "['$uicideboy$ - The Sacred.mp3', 'Smino - Trina.mp3', '1takejay - No Fucks (feat. Sueco The Child and AzChike).mp3']\n"
     ]
    }
   ],
   "source": [
    "resultado = consultas.knn_rtree(new_data[364],3)\n",
    "print(resultado)"
   ]
  },
  {
   "cell_type": "code",
   "execution_count": null,
   "id": "a49465fba87f5a87",
   "metadata": {
    "collapsed": false
   },
   "outputs": [],
   "source": []
  }
 ],
 "metadata": {
  "kernelspec": {
   "display_name": "Python 3",
   "language": "python",
   "name": "python3"
  },
  "language_info": {
   "codemirror_mode": {
    "name": "ipython",
    "version": 3
   },
   "file_extension": ".py",
   "mimetype": "text/x-python",
   "name": "python",
   "nbconvert_exporter": "python",
   "pygments_lexer": "ipython3",
   "version": "3.11.5"
  },
  "vscode": {
   "interpreter": {
    "hash": "e7370f93d1d0cde622a1f8e1c04877d8463912d04d973331ad4851f04de6915a"
   }
  }
 },
 "nbformat": 4,
 "nbformat_minor": 5
}
